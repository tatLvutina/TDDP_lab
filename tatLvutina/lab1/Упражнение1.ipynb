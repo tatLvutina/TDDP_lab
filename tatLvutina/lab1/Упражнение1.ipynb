{
 "cells": [
  {
   "cell_type": "code",
   "execution_count": 1,
   "metadata": {},
   "outputs": [
    {
     "name": "stdout",
     "output_type": "stream",
     "text": [
      "Количество банок:  52\n"
     ]
    }
   ],
   "source": [
    "d = input(\"Диаметр бака: \") \n",
    "d = int(d) \n",
    "h = input(\"Высота бака: \") \n",
    "h = int(h) \n",
    "S = input(\"Площадь окраски одной банкой: \") \n",
    "S = int(S) \n",
    "\n",
    "import math \n",
    "\n",
    "\n",
    "quantity = (4*math.pi*d*h+(2*math.pi*d**2))/S \n",
    "quantity = int(quantity)+1 \n",
    "print(\"Количество банок: \", quantity)"
   ]
  },
  {
   "cell_type": "code",
   "execution_count": 5,
   "metadata": {},
   "outputs": [
    {
     "name": "stdout",
     "output_type": "stream",
     "text": [
      "[0, 0, 0, 0, 0]\n",
      "[0, 49, 0, 0, 0]\n",
      "[0, 49, 45, 0, 0]\n",
      "[0, 49, 45, 29, 0]\n",
      "[0, 49, 45, 29, 33]\n",
      "Все уникальны\n"
     ]
    }
   ],
   "source": [
    "from random import random \n",
    "N=5 \n",
    "arr = [0]*N \n",
    "for i in range(N): \n",
    "    arr[i]=int(random()*50) \n",
    "    print(arr) \n",
    "for i in range(N-1): \n",
    "    for j in range(i+1,N): \n",
    "        if arr[i]==arr[j]: \n",
    "            print(\"Есть одинаковые\") \n",
    "quit() \n",
    "print(\"Все уникальны\")"
   ]
  },
  {
   "cell_type": "code",
   "execution_count": 1,
   "metadata": {},
   "outputs": [
    {
     "name": "stdout",
     "output_type": "stream",
     "text": [
      "Вводите количество элементов, минимум и максимум через пробел\n",
      "(для завершения оставьте пустую строку)\n",
      "\n",
      "\n",
      "[7, 8, 7, 5]\n",
      "0.88 1.00 0.88 0.62 \n",
      "max = 8\n"
     ]
    }
   ],
   "source": [
    "from random import random \n",
    "\n",
    "def make_list(n, mn, mx): \n",
    "    a = [] \n",
    "    for i in range(n): \n",
    "        b = int(random() * (mx - mn + 1)) + mn \n",
    "        a.append(b) \n",
    "    return a \n",
    "\n",
    "def max_div(a): \n",
    "    b = max(a) \n",
    "    for i in a: \n",
    "        print('%.2f ' % (i/b), end='') \n",
    "    print() \n",
    "    print('max =', b) \n",
    "\n",
    "print('Вводите количество элементов, минимум и максимум через пробел') \n",
    "print('(для завершения оставьте пустую строку)') \n",
    "while 1: \n",
    "    print() \n",
    "    data = input() \n",
    "    if data == '': break \n",
    "    data = data.split() \n",
    "    mylist = make_list(int(data[0]), int(data[1]), int(data[2])) \n",
    "print(mylist) \n",
    "max_div(mylist)"
   ]
  },
  {
   "cell_type": "code",
   "execution_count": 3,
   "metadata": {},
   "outputs": [
    {
     "ename": "IndentationError",
     "evalue": "unexpected indent (<ipython-input-3-d6cdca1ef07b>, line 5)",
     "output_type": "error",
     "traceback": [
      "\u001b[1;36m  File \u001b[1;32m\"<ipython-input-3-d6cdca1ef07b>\"\u001b[1;36m, line \u001b[1;32m5\u001b[0m\n\u001b[1;33m    k = k[i]\u001b[0m\n\u001b[1;37m    ^\u001b[0m\n\u001b[1;31mIndentationError\u001b[0m\u001b[1;31m:\u001b[0m unexpected indent\n"
     ]
    }
   ],
   "source": [
    "k = input() \n",
    "\n",
    "i = 0 \n",
    "while k[i] == ' ': \n",
    "    i+=1 \n",
    "    k = k[i] \n",
    "\n",
    "i = len(k) \n",
    "while k[i-1] == ' ':\n",
    "    i-=1 \n",
    "    k = k[i] \n",
    "\n",
    "k1 = k[0] \n",
    "i = 1 \n",
    "while i < len(k): \n",
    "    if k[i] != ' ': \n",
    "        k1 += k[i] \n",
    "    elif k[i-1] != ' ': \n",
    "        k1 += '*' \n",
    "    i += 1 \n",
    "print(k1)"
   ]
  },
  {
   "cell_type": "code",
   "execution_count": 5,
   "metadata": {},
   "outputs": [
    {
     "name": "stdout",
     "output_type": "stream",
     "text": [
      "\"Обратное\" ему число: 4321\n"
     ]
    }
   ],
   "source": [
    "k1 = int(input(\"Введите целое число: \"))\n",
    "k2 = 0\n",
    " \n",
    "while k1 > 0:\n",
    "    a = k1 % 10\n",
    "    k1 = k1 // 10\n",
    "    k2 = k2 * 10 \n",
    "    k2 = k2 + a\n",
    " \n",
    "print('\"Обратное\" ему число:',k2)"
   ]
  },
  {
   "cell_type": "code",
   "execution_count": null,
   "metadata": {},
   "outputs": [],
   "source": []
  }
 ],
 "metadata": {
  "kernelspec": {
   "display_name": "Python 3",
   "language": "python",
   "name": "python3"
  },
  "language_info": {
   "codemirror_mode": {
    "name": "ipython",
    "version": 3
   },
   "file_extension": ".py",
   "mimetype": "text/x-python",
   "name": "python",
   "nbconvert_exporter": "python",
   "pygments_lexer": "ipython3",
   "version": "3.5.4"
  }
 },
 "nbformat": 4,
 "nbformat_minor": 2
}
